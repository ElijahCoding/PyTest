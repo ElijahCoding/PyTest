{
 "cells": [
  {
   "cell_type": "markdown",
   "metadata": {},
   "source": [
    "# Create List"
   ]
  },
  {
   "cell_type": "code",
   "execution_count": 1,
   "metadata": {},
   "outputs": [],
   "source": [
    "def method1():\n",
    "    l = []\n",
    "    for n in range(10000):\n",
    "        l = l + [n]\n",
    "\n",
    "        \n",
    "def method2():\n",
    "    l = []\n",
    "    for n in range(10000):\n",
    "        l.append(n)\n",
    "\n",
    "def method3():\n",
    "    l = [n for n in range(10000)]\n",
    "    \n",
    "def method4():\n",
    "    l = range(10000)"
   ]
  },
  {
   "cell_type": "code",
   "execution_count": 2,
   "metadata": {},
   "outputs": [
    {
     "name": "stdout",
     "output_type": "stream",
     "text": [
      "192 ms ± 11.3 ms per loop (mean ± std. dev. of 7 runs, 10 loops each)\n",
      "893 µs ± 62.4 µs per loop (mean ± std. dev. of 7 runs, 1000 loops each)\n",
      "409 µs ± 27.2 µs per loop (mean ± std. dev. of 7 runs, 1000 loops each)\n",
      "303 ns ± 12.8 ns per loop (mean ± std. dev. of 7 runs, 1000000 loops each)\n"
     ]
    }
   ],
   "source": [
    "%timeit method1()\n",
    "%timeit method2()\n",
    "%timeit method3()\n",
    "%timeit method4()"
   ]
  },
  {
   "cell_type": "markdown",
   "metadata": {},
   "source": [
    "# Dynamic Arrays"
   ]
  },
  {
   "cell_type": "code",
   "execution_count": 3,
   "metadata": {},
   "outputs": [
    {
     "name": "stdout",
     "output_type": "stream",
     "text": [
      "Length:   0; Size in bytes:   72\n",
      "Length:   1; Size in bytes:  104\n",
      "Length:   2; Size in bytes:  104\n",
      "Length:   3; Size in bytes:  104\n",
      "Length:   4; Size in bytes:  104\n",
      "Length:   5; Size in bytes:  136\n",
      "Length:   6; Size in bytes:  136\n",
      "Length:   7; Size in bytes:  136\n",
      "Length:   8; Size in bytes:  136\n",
      "Length:   9; Size in bytes:  200\n",
      "Length:  10; Size in bytes:  200\n",
      "Length:  11; Size in bytes:  200\n",
      "Length:  12; Size in bytes:  200\n",
      "Length:  13; Size in bytes:  200\n",
      "Length:  14; Size in bytes:  200\n",
      "Length:  15; Size in bytes:  200\n",
      "Length:  16; Size in bytes:  200\n",
      "Length:  17; Size in bytes:  272\n",
      "Length:  18; Size in bytes:  272\n",
      "Length:  19; Size in bytes:  272\n",
      "Length:  20; Size in bytes:  272\n",
      "Length:  21; Size in bytes:  272\n",
      "Length:  22; Size in bytes:  272\n",
      "Length:  23; Size in bytes:  272\n",
      "Length:  24; Size in bytes:  272\n",
      "Length:  25; Size in bytes:  272\n",
      "Length:  26; Size in bytes:  352\n",
      "Length:  27; Size in bytes:  352\n",
      "Length:  28; Size in bytes:  352\n",
      "Length:  29; Size in bytes:  352\n",
      "Length:  30; Size in bytes:  352\n",
      "Length:  31; Size in bytes:  352\n",
      "Length:  32; Size in bytes:  352\n",
      "Length:  33; Size in bytes:  352\n",
      "Length:  34; Size in bytes:  352\n",
      "Length:  35; Size in bytes:  352\n",
      "Length:  36; Size in bytes:  440\n",
      "Length:  37; Size in bytes:  440\n",
      "Length:  38; Size in bytes:  440\n",
      "Length:  39; Size in bytes:  440\n",
      "Length:  40; Size in bytes:  440\n",
      "Length:  41; Size in bytes:  440\n",
      "Length:  42; Size in bytes:  440\n",
      "Length:  43; Size in bytes:  440\n",
      "Length:  44; Size in bytes:  440\n",
      "Length:  45; Size in bytes:  440\n",
      "Length:  46; Size in bytes:  440\n",
      "Length:  47; Size in bytes:  536\n",
      "Length:  48; Size in bytes:  536\n",
      "Length:  49; Size in bytes:  536\n"
     ]
    }
   ],
   "source": [
    "import sys\n",
    "\n",
    "n = 50\n",
    "\n",
    "data = []\n",
    "\n",
    "for i in range(n):\n",
    "    # Number of elements\n",
    "    a = len(data)\n",
    "    \n",
    "    # Actual size in bytes\n",
    "    b = sys.getsizeof(data)\n",
    "    \n",
    "    print('Length: {0:3d}; Size in bytes: {1:4d}'.format(a, b))\n",
    "    \n",
    "    data.append(n)"
   ]
  },
  {
   "cell_type": "code",
   "execution_count": null,
   "metadata": {},
   "outputs": [],
   "source": []
  },
  {
   "cell_type": "code",
   "execution_count": null,
   "metadata": {},
   "outputs": [],
   "source": []
  }
 ],
 "metadata": {
  "kernelspec": {
   "display_name": "Python 3",
   "language": "python",
   "name": "python3"
  },
  "language_info": {
   "codemirror_mode": {
    "name": "ipython",
    "version": 3
   },
   "file_extension": ".py",
   "mimetype": "text/x-python",
   "name": "python",
   "nbconvert_exporter": "python",
   "pygments_lexer": "ipython3",
   "version": "3.7.7"
  }
 },
 "nbformat": 4,
 "nbformat_minor": 4
}
