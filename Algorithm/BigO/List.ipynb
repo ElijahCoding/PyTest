{
 "cells": [
  {
   "cell_type": "markdown",
   "metadata": {},
   "source": [
    "# Create List"
   ]
  },
  {
   "cell_type": "code",
   "execution_count": 1,
   "metadata": {},
   "outputs": [],
   "source": [
    "def method1():\n",
    "    l = []\n",
    "    for n in range(10000):\n",
    "        l = l + [n]\n",
    "\n",
    "        \n",
    "def method2():\n",
    "    l = []\n",
    "    for n in range(10000):\n",
    "        l.append(n)\n",
    "\n",
    "def method3():\n",
    "    l = [n for n in range(10000)]\n",
    "    \n",
    "def method4():\n",
    "    l = range(10000)"
   ]
  },
  {
   "cell_type": "code",
   "execution_count": 2,
   "metadata": {},
   "outputs": [
    {
     "name": "stdout",
     "output_type": "stream",
     "text": [
      "186 ms ± 11.6 ms per loop (mean ± std. dev. of 7 runs, 1 loop each)\n",
      "901 µs ± 35.4 µs per loop (mean ± std. dev. of 7 runs, 1000 loops each)\n",
      "413 µs ± 17.4 µs per loop (mean ± std. dev. of 7 runs, 1000 loops each)\n",
      "310 ns ± 5.08 ns per loop (mean ± std. dev. of 7 runs, 1000000 loops each)\n"
     ]
    }
   ],
   "source": [
    "%timeit method1()\n",
    "%timeit method2()\n",
    "%timeit method3()\n",
    "%timeit method4()"
   ]
  },
  {
   "cell_type": "markdown",
   "metadata": {},
   "source": [
    "# Dynamic Arrays"
   ]
  },
  {
   "cell_type": "code",
   "execution_count": 3,
   "metadata": {},
   "outputs": [
    {
     "name": "stdout",
     "output_type": "stream",
     "text": [
      "Length:   0; Size in bytes:   72\n",
      "Length:   1; Size in bytes:  104\n",
      "Length:   2; Size in bytes:  104\n",
      "Length:   3; Size in bytes:  104\n",
      "Length:   4; Size in bytes:  104\n",
      "Length:   5; Size in bytes:  136\n",
      "Length:   6; Size in bytes:  136\n",
      "Length:   7; Size in bytes:  136\n",
      "Length:   8; Size in bytes:  136\n",
      "Length:   9; Size in bytes:  200\n",
      "Length:  10; Size in bytes:  200\n",
      "Length:  11; Size in bytes:  200\n",
      "Length:  12; Size in bytes:  200\n",
      "Length:  13; Size in bytes:  200\n",
      "Length:  14; Size in bytes:  200\n",
      "Length:  15; Size in bytes:  200\n",
      "Length:  16; Size in bytes:  200\n",
      "Length:  17; Size in bytes:  272\n",
      "Length:  18; Size in bytes:  272\n",
      "Length:  19; Size in bytes:  272\n",
      "Length:  20; Size in bytes:  272\n",
      "Length:  21; Size in bytes:  272\n",
      "Length:  22; Size in bytes:  272\n",
      "Length:  23; Size in bytes:  272\n",
      "Length:  24; Size in bytes:  272\n",
      "Length:  25; Size in bytes:  272\n",
      "Length:  26; Size in bytes:  352\n",
      "Length:  27; Size in bytes:  352\n",
      "Length:  28; Size in bytes:  352\n",
      "Length:  29; Size in bytes:  352\n",
      "Length:  30; Size in bytes:  352\n",
      "Length:  31; Size in bytes:  352\n",
      "Length:  32; Size in bytes:  352\n",
      "Length:  33; Size in bytes:  352\n",
      "Length:  34; Size in bytes:  352\n",
      "Length:  35; Size in bytes:  352\n",
      "Length:  36; Size in bytes:  440\n",
      "Length:  37; Size in bytes:  440\n",
      "Length:  38; Size in bytes:  440\n",
      "Length:  39; Size in bytes:  440\n",
      "Length:  40; Size in bytes:  440\n",
      "Length:  41; Size in bytes:  440\n",
      "Length:  42; Size in bytes:  440\n",
      "Length:  43; Size in bytes:  440\n",
      "Length:  44; Size in bytes:  440\n",
      "Length:  45; Size in bytes:  440\n",
      "Length:  46; Size in bytes:  440\n",
      "Length:  47; Size in bytes:  536\n",
      "Length:  48; Size in bytes:  536\n",
      "Length:  49; Size in bytes:  536\n"
     ]
    }
   ],
   "source": [
    "import sys\n",
    "\n",
    "n = 50\n",
    "\n",
    "data = []\n",
    "\n",
    "for i in range(n):\n",
    "    # Number of elements\n",
    "    a = len(data)\n",
    "    \n",
    "    # Actual size in bytes\n",
    "    b = sys.getsizeof(data)\n",
    "    \n",
    "    print('Length: {0:3d}; Size in bytes: {1:4d}'.format(a, b))\n",
    "    \n",
    "    data.append(n)"
   ]
  },
  {
   "cell_type": "markdown",
   "metadata": {},
   "source": [
    "# Dynamic Array Implementation"
   ]
  },
  {
   "cell_type": "code",
   "execution_count": 4,
   "metadata": {},
   "outputs": [],
   "source": [
    "import ctypes"
   ]
  },
  {
   "cell_type": "code",
   "execution_count": 5,
   "metadata": {},
   "outputs": [],
   "source": [
    "class DynamicArray(object):\n",
    "    def __init__(self):\n",
    "        self.n = 0\n",
    "        self.capacity = 1\n",
    "        self.A = self.make_array(self.capacity)\n",
    "        \n",
    "    def __len__(self):\n",
    "        return self.n\n",
    "    \n",
    "    def __getitem__(self, k):\n",
    "        if not 0 <= k < self.n:\n",
    "            return IndexError('k is out of bounds.')\n",
    "        return self.A[k]\n",
    "    \n",
    "    def append(self, ele):\n",
    "        if self.n == self.capacity:\n",
    "            self._resize(2*self.capacity) # 2x if capacity is not enough\n",
    "        \n",
    "        self.A[self.n] = ele\n",
    "        self.n += 1\n",
    "        \n",
    "    def _resize(self, new_cap):\n",
    "        B = self.make_array(new_cap)\n",
    "        \n",
    "        for k in range(self.n):\n",
    "            B[k] = self.A[k]\n",
    "        \n",
    "        self.A = B\n",
    "        self.capacity = new_cap\n",
    "    \n",
    "    def make_array(self, new_cap):\n",
    "        return (new_cap * ctypes.py_object)()"
   ]
  },
  {
   "cell_type": "code",
   "execution_count": 6,
   "metadata": {},
   "outputs": [],
   "source": [
    "arr = DynamicArray()"
   ]
  },
  {
   "cell_type": "code",
   "execution_count": 7,
   "metadata": {},
   "outputs": [],
   "source": [
    "arr.append(1)"
   ]
  },
  {
   "cell_type": "code",
   "execution_count": 8,
   "metadata": {},
   "outputs": [
    {
     "data": {
      "text/plain": [
       "1"
      ]
     },
     "execution_count": 8,
     "metadata": {},
     "output_type": "execute_result"
    }
   ],
   "source": [
    "len(arr)"
   ]
  },
  {
   "cell_type": "code",
   "execution_count": 9,
   "metadata": {},
   "outputs": [
    {
     "data": {
      "text/plain": [
       "2"
      ]
     },
     "execution_count": 9,
     "metadata": {},
     "output_type": "execute_result"
    }
   ],
   "source": [
    "arr.append(2)\n",
    "len(arr)"
   ]
  },
  {
   "cell_type": "code",
   "execution_count": 10,
   "metadata": {},
   "outputs": [
    {
     "data": {
      "text/plain": [
       "(1, 2)"
      ]
     },
     "execution_count": 10,
     "metadata": {},
     "output_type": "execute_result"
    }
   ],
   "source": [
    "arr[0], arr[1]"
   ]
  },
  {
   "cell_type": "code",
   "execution_count": null,
   "metadata": {},
   "outputs": [],
   "source": []
  }
 ],
 "metadata": {
  "kernelspec": {
   "display_name": "Python 3",
   "language": "python",
   "name": "python3"
  },
  "language_info": {
   "codemirror_mode": {
    "name": "ipython",
    "version": 3
   },
   "file_extension": ".py",
   "mimetype": "text/x-python",
   "name": "python",
   "nbconvert_exporter": "python",
   "pygments_lexer": "ipython3",
   "version": "3.7.7"
  }
 },
 "nbformat": 4,
 "nbformat_minor": 4
}
