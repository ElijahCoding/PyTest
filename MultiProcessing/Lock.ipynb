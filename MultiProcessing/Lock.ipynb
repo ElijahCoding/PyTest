{
 "cells": [
  {
   "cell_type": "code",
   "execution_count": 1,
   "metadata": {},
   "outputs": [],
   "source": [
    "import time\n",
    "from multiprocessing import Process, Lock, Value"
   ]
  },
  {
   "cell_type": "code",
   "execution_count": 2,
   "metadata": {},
   "outputs": [],
   "source": [
    "def add_500_no_mp(total):\n",
    "    for i in range(100):\n",
    "        time.sleep(0.01)\n",
    "        total += 5\n",
    "    return total\n",
    "\n",
    "def sub_500_no_mp(total):\n",
    "    for i in range(100):\n",
    "        time.sleep(0.01)\n",
    "        total -= 5\n",
    "    return total\n",
    "\n",
    "\n",
    "def add_500_no_lock(total):\n",
    "    for i in range(100):\n",
    "        time.sleep(0.01)\n",
    "        total.value += 5\n",
    "\n",
    "def sub_500_no_lock(total):\n",
    "    for i in range(100):\n",
    "        time.sleep(0.01)\n",
    "        total.value -= 5\n",
    "\n",
    "        \n",
    "def add_500_lock(total, lock):\n",
    "    for i in range(100):\n",
    "        time.sleep(0.01)\n",
    "        lock.acquire()\n",
    "        total.value += 5\n",
    "        lock.release()\n",
    "\n",
    "\n",
    "def sub_500_lock(total, lock):\n",
    "    for i in range(100):\n",
    "        time.sleep(0.01)\n",
    "        lock.acquire()\n",
    "        total.value -= 5\n",
    "        lock.release()\n"
   ]
  },
  {
   "cell_type": "code",
   "execution_count": 3,
   "metadata": {},
   "outputs": [
    {
     "name": "stdout",
     "output_type": "stream",
     "text": [
      "500\n",
      "1000\n",
      "500\n"
     ]
    }
   ],
   "source": [
    "if __name__ == '__main__':\n",
    "   total = 500\n",
    "   print(total)\n",
    "   total = add_500_no_mp(total)\n",
    "   print(total)\n",
    "   total = sub_500_no_mp(total)\n",
    "   print(total)"
   ]
  },
  {
   "cell_type": "code",
   "execution_count": 4,
   "metadata": {},
   "outputs": [
    {
     "name": "stdout",
     "output_type": "stream",
     "text": [
      "500\n"
     ]
    }
   ],
   "source": [
    "if __name__ == '__main__':\n",
    "\n",
    "    total = Value('i', 500)\n",
    "    lock = Lock()\n",
    "    add_proc = Process(target=add_500_lock, args=(total, lock))\n",
    "    sub_proc = Process(target=sub_500_lock, args=(total, lock))\n",
    "\n",
    "    add_proc.start()\n",
    "    sub_proc.start()\n",
    "\n",
    "    add_proc.join()\n",
    "    sub_proc.join()\n",
    "    print(total.value)"
   ]
  },
  {
   "cell_type": "code",
   "execution_count": null,
   "metadata": {},
   "outputs": [],
   "source": []
  }
 ],
 "metadata": {
  "kernelspec": {
   "display_name": "Python 3",
   "language": "python",
   "name": "python3"
  },
  "language_info": {
   "codemirror_mode": {
    "name": "ipython",
    "version": 3
   },
   "file_extension": ".py",
   "mimetype": "text/x-python",
   "name": "python",
   "nbconvert_exporter": "python",
   "pygments_lexer": "ipython3",
   "version": "3.7.4"
  }
 },
 "nbformat": 4,
 "nbformat_minor": 2
}
